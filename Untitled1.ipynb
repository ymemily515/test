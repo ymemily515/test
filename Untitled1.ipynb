{
  "nbformat": 4,
  "nbformat_minor": 0,
  "metadata": {
    "colab": {
      "name": "Untitled1.ipynb",
      "provenance": [],
      "authorship_tag": "ABX9TyMLLrcYHW9j22GqQyR7aq12",
      "include_colab_link": true
    },
    "kernelspec": {
      "name": "python3",
      "display_name": "Python 3"
    }
  },
  "cells": [
    {
      "cell_type": "markdown",
      "metadata": {
        "id": "view-in-github",
        "colab_type": "text"
      },
      "source": [
        "<a href=\"https://colab.research.google.com/github/ymemily515/test/blob/master/Untitled1.ipynb\" target=\"_parent\"><img src=\"https://colab.research.google.com/assets/colab-badge.svg\" alt=\"Open In Colab\"/></a>"
      ]
    },
    {
      "cell_type": "markdown",
      "metadata": {
        "id": "ZYP5lernTaVX",
        "colab_type": "text"
      },
      "source": [
        "#1강 요약정리\n",
        "* 파이썬 자료형"
      ]
    },
    {
      "cell_type": "code",
      "metadata": {
        "id": "6Q8Wrh33T5Vm",
        "colab_type": "code",
        "colab": {
          "base_uri": "https://localhost:8080/",
          "height": 35
        },
        "outputId": "c36aa063-9b12-4670-a477-8b115816c9ff"
      },
      "source": [
        "mystr = \"hello\"\n",
        "myint = 123\n",
        "mylist = [True, False, True]\n",
        "\n",
        "print(type(mystr), type(myint), type (mylist))\n"
      ],
      "execution_count": 1,
      "outputs": [
        {
          "output_type": "stream",
          "text": [
            "<class 'str'> <class 'int'> <class 'list'>\n"
          ],
          "name": "stdout"
        }
      ]
    },
    {
      "cell_type": "markdown",
      "metadata": {
        "id": "jyJtZ73zUyYS",
        "colab_type": "text"
      },
      "source": [
        "* 파이썬 연산자"
      ]
    }
  ]
}