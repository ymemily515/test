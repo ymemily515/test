{
  "nbformat": 4,
  "nbformat_minor": 0,
  "metadata": {
    "colab": {
      "name": "Untitled0.ipynb",
      "provenance": [],
      "authorship_tag": "ABX9TyMs4fvVLZ8yH0ZI9kRlnMpz",
      "include_colab_link": true
    },
    "kernelspec": {
      "name": "python3",
      "display_name": "Python 3"
    }
  },
  "cells": [
    {
      "cell_type": "markdown",
      "metadata": {
        "id": "view-in-github",
        "colab_type": "text"
      },
      "source": [
        "<a href=\"https://colab.research.google.com/github/ymemily515/test/blob/master/Untitled0.ipynb\" target=\"_parent\"><img src=\"https://colab.research.google.com/assets/colab-badge.svg\" alt=\"Open In Colab\"/></a>"
      ]
    },
    {
      "cell_type": "markdown",
      "metadata": {
        "id": "-psmLHmqXciy",
        "colab_type": "text"
      },
      "source": [
        "1 강 요약정리\n",
        " - 파이썬 자료형\n"
      ]
    },
    {
      "cell_type": "code",
      "metadata": {
        "id": "5urgbb9UXjd_",
        "colab_type": "code",
        "colab": {
          "base_uri": "https://localhost:8080/",
          "height": 35
        },
        "outputId": "473ef960-511c-4858-df98-a120f98289de"
      },
      "source": [
        "mystr = \"hello\"\n",
        "myint = 123\n",
        "mylist = [True, False, True]\n",
        "\n",
        "print(type(mystr), type(myint), type(mylist))"
      ],
      "execution_count": 9,
      "outputs": [
        {
          "output_type": "stream",
          "text": [
            "<class 'str'> <class 'int'> <class 'list'>\n"
          ],
          "name": "stdout"
        }
      ]
    },
    {
      "cell_type": "markdown",
      "metadata": {
        "id": "I9OBVvXDYQL_",
        "colab_type": "text"
      },
      "source": [
        "- 파이썬 연산자"
      ]
    }
  ]
}